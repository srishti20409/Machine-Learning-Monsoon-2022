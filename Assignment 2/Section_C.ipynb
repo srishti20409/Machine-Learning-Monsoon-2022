{
  "nbformat": 4,
  "nbformat_minor": 0,
  "metadata": {
    "colab": {
      "provenance": []
    },
    "kernelspec": {
      "name": "python3",
      "display_name": "Python 3"
    },
    "language_info": {
      "name": "python"
    }
  },
  "cells": [
    {
      "cell_type": "markdown",
      "source": [
        "# **Basic important libraries**"
      ],
      "metadata": {
        "id": "4NyUPbAgrdzu"
      }
    },
    {
      "cell_type": "code",
      "execution_count": 1,
      "metadata": {
        "id": "PXvwzhWtrW56"
      },
      "outputs": [],
      "source": [
        "import math, copy\n",
        "import numpy as np\n",
        "import matplotlib.pyplot as plt\n",
        "import pandas as pd\n",
        "import seaborn as sns\n",
        "from sklearn import preprocessing"
      ]
    },
    {
      "cell_type": "code",
      "source": [
        "from sklearn.tree import DecisionTreeClassifier\n",
        "from sklearn.ensemble import AdaBoostClassifier\n",
        "from sklearn.base import clone\n",
        "from sklearn.metrics import r2_score"
      ],
      "metadata": {
        "id": "2CWlChOp_GEJ"
      },
      "execution_count": 2,
      "outputs": []
    },
    {
      "cell_type": "markdown",
      "source": [
        "# **Drive Mount**"
      ],
      "metadata": {
        "id": "RSjYqgH9rmZm"
      }
    },
    {
      "cell_type": "code",
      "source": [
        "from google.colab import drive\n",
        "drive.mount('/content/drive')\n",
        "%cd /content/drive/MyDrive/Machine Learning/Assignment 2"
      ],
      "metadata": {
        "colab": {
          "base_uri": "https://localhost:8080/"
        },
        "id": "u3Qw1sP0rs3B",
        "outputId": "b74aa28b-2a53-44d3-814f-c3ef560f8b24"
      },
      "execution_count": 3,
      "outputs": [
        {
          "output_type": "stream",
          "name": "stdout",
          "text": [
            "Mounted at /content/drive\n",
            "/content/drive/MyDrive/Machine Learning/Assignment 2\n"
          ]
        }
      ]
    },
    {
      "cell_type": "markdown",
      "source": [
        "# **Data**"
      ],
      "metadata": {
        "id": "71V5vvLKs1Rg"
      }
    },
    {
      "cell_type": "code",
      "source": [
        "df = pd.read_csv(\"BitcoinHeistData.csv\")"
      ],
      "metadata": {
        "id": "vl4WpMCkszst"
      },
      "execution_count": 4,
      "outputs": []
    },
    {
      "cell_type": "code",
      "source": [
        "le = preprocessing.LabelEncoder()\n",
        "le.fit(df.label)\n",
        "df['label'] = le.transform(df.label)"
      ],
      "metadata": {
        "id": "c4-EYSy83MV2"
      },
      "execution_count": 5,
      "outputs": []
    },
    {
      "cell_type": "code",
      "source": [
        "check_nan = df.isnull().values.any()\n",
        "# printing the result\n",
        "print(check_nan)"
      ],
      "metadata": {
        "colab": {
          "base_uri": "https://localhost:8080/"
        },
        "id": "YTkiklPdtyC3",
        "outputId": "8a240d54-366a-4fcc-daff-121ce6f7e2df"
      },
      "execution_count": 6,
      "outputs": [
        {
          "output_type": "stream",
          "name": "stdout",
          "text": [
            "False\n"
          ]
        }
      ]
    },
    {
      "cell_type": "code",
      "source": [
        "print(\"labels : \" , df.label.unique())\n",
        "print(\"number of unique labels :\" , df.label.nunique(dropna = True))"
      ],
      "metadata": {
        "colab": {
          "base_uri": "https://localhost:8080/"
        },
        "id": "smXIuPhNtykQ",
        "outputId": "e07a2169-356c-4b2a-b61e-78fd23a101ec"
      },
      "execution_count": 7,
      "outputs": [
        {
          "output_type": "stream",
          "name": "stdout",
          "text": [
            "labels :  [26 27  4  3 23 19  7  5 17  9 14  6 10  8 25 18 22 24 12 13 21 20 15  2\n",
            " 11 16  1  0 28]\n",
            "number of unique labels : 29\n"
          ]
        }
      ]
    },
    {
      "cell_type": "code",
      "source": [
        "ax = sns.heatmap(df.corr())\n",
        "df.describe()"
      ],
      "metadata": {
        "colab": {
          "base_uri": "https://localhost:8080/",
          "height": 605
        },
        "id": "6G8Z5HUx2C06",
        "outputId": "de9a4bf5-cd98-463f-e9ad-30114d60993e"
      },
      "execution_count": 8,
      "outputs": [
        {
          "output_type": "execute_result",
          "data": {
            "text/plain": [
              "               year           day        length        weight         count  \\\n",
              "count  2.916697e+06  2.916697e+06  2.916697e+06  2.916697e+06  2.916697e+06   \n",
              "mean   2.014475e+03  1.814572e+02  4.500859e+01  5.455192e-01  7.216446e+02   \n",
              "std    2.257398e+00  1.040118e+02  5.898236e+01  3.674255e+00  1.689676e+03   \n",
              "min    2.011000e+03  1.000000e+00  0.000000e+00  3.606469e-94  1.000000e+00   \n",
              "25%    2.013000e+03  9.200000e+01  2.000000e+00  2.148438e-02  1.000000e+00   \n",
              "50%    2.014000e+03  1.810000e+02  8.000000e+00  2.500000e-01  1.000000e+00   \n",
              "75%    2.016000e+03  2.710000e+02  1.080000e+02  8.819482e-01  5.600000e+01   \n",
              "max    2.018000e+03  3.650000e+02  1.440000e+02  1.943749e+03  1.449700e+04   \n",
              "\n",
              "             looped     neighbors        income         label  \n",
              "count  2.916697e+06  2.916697e+06  2.916697e+06  2.916697e+06  \n",
              "mean   2.385067e+02  2.206516e+00  4.464889e+09  2.786413e+01  \n",
              "std    9.663217e+02  1.791877e+01  1.626860e+11  1.619233e+00  \n",
              "min    0.000000e+00  1.000000e+00  3.000000e+07  0.000000e+00  \n",
              "25%    0.000000e+00  1.000000e+00  7.428559e+07  2.800000e+01  \n",
              "50%    0.000000e+00  2.000000e+00  1.999985e+08  2.800000e+01  \n",
              "75%    0.000000e+00  2.000000e+00  9.940000e+08  2.800000e+01  \n",
              "max    1.449600e+04  1.292000e+04  4.996440e+13  2.800000e+01  "
            ],
            "text/html": [
              "\n",
              "  <div id=\"df-b470a463-f216-46ac-adde-8e454c3745bd\">\n",
              "    <div class=\"colab-df-container\">\n",
              "      <div>\n",
              "<style scoped>\n",
              "    .dataframe tbody tr th:only-of-type {\n",
              "        vertical-align: middle;\n",
              "    }\n",
              "\n",
              "    .dataframe tbody tr th {\n",
              "        vertical-align: top;\n",
              "    }\n",
              "\n",
              "    .dataframe thead th {\n",
              "        text-align: right;\n",
              "    }\n",
              "</style>\n",
              "<table border=\"1\" class=\"dataframe\">\n",
              "  <thead>\n",
              "    <tr style=\"text-align: right;\">\n",
              "      <th></th>\n",
              "      <th>year</th>\n",
              "      <th>day</th>\n",
              "      <th>length</th>\n",
              "      <th>weight</th>\n",
              "      <th>count</th>\n",
              "      <th>looped</th>\n",
              "      <th>neighbors</th>\n",
              "      <th>income</th>\n",
              "      <th>label</th>\n",
              "    </tr>\n",
              "  </thead>\n",
              "  <tbody>\n",
              "    <tr>\n",
              "      <th>count</th>\n",
              "      <td>2.916697e+06</td>\n",
              "      <td>2.916697e+06</td>\n",
              "      <td>2.916697e+06</td>\n",
              "      <td>2.916697e+06</td>\n",
              "      <td>2.916697e+06</td>\n",
              "      <td>2.916697e+06</td>\n",
              "      <td>2.916697e+06</td>\n",
              "      <td>2.916697e+06</td>\n",
              "      <td>2.916697e+06</td>\n",
              "    </tr>\n",
              "    <tr>\n",
              "      <th>mean</th>\n",
              "      <td>2.014475e+03</td>\n",
              "      <td>1.814572e+02</td>\n",
              "      <td>4.500859e+01</td>\n",
              "      <td>5.455192e-01</td>\n",
              "      <td>7.216446e+02</td>\n",
              "      <td>2.385067e+02</td>\n",
              "      <td>2.206516e+00</td>\n",
              "      <td>4.464889e+09</td>\n",
              "      <td>2.786413e+01</td>\n",
              "    </tr>\n",
              "    <tr>\n",
              "      <th>std</th>\n",
              "      <td>2.257398e+00</td>\n",
              "      <td>1.040118e+02</td>\n",
              "      <td>5.898236e+01</td>\n",
              "      <td>3.674255e+00</td>\n",
              "      <td>1.689676e+03</td>\n",
              "      <td>9.663217e+02</td>\n",
              "      <td>1.791877e+01</td>\n",
              "      <td>1.626860e+11</td>\n",
              "      <td>1.619233e+00</td>\n",
              "    </tr>\n",
              "    <tr>\n",
              "      <th>min</th>\n",
              "      <td>2.011000e+03</td>\n",
              "      <td>1.000000e+00</td>\n",
              "      <td>0.000000e+00</td>\n",
              "      <td>3.606469e-94</td>\n",
              "      <td>1.000000e+00</td>\n",
              "      <td>0.000000e+00</td>\n",
              "      <td>1.000000e+00</td>\n",
              "      <td>3.000000e+07</td>\n",
              "      <td>0.000000e+00</td>\n",
              "    </tr>\n",
              "    <tr>\n",
              "      <th>25%</th>\n",
              "      <td>2.013000e+03</td>\n",
              "      <td>9.200000e+01</td>\n",
              "      <td>2.000000e+00</td>\n",
              "      <td>2.148438e-02</td>\n",
              "      <td>1.000000e+00</td>\n",
              "      <td>0.000000e+00</td>\n",
              "      <td>1.000000e+00</td>\n",
              "      <td>7.428559e+07</td>\n",
              "      <td>2.800000e+01</td>\n",
              "    </tr>\n",
              "    <tr>\n",
              "      <th>50%</th>\n",
              "      <td>2.014000e+03</td>\n",
              "      <td>1.810000e+02</td>\n",
              "      <td>8.000000e+00</td>\n",
              "      <td>2.500000e-01</td>\n",
              "      <td>1.000000e+00</td>\n",
              "      <td>0.000000e+00</td>\n",
              "      <td>2.000000e+00</td>\n",
              "      <td>1.999985e+08</td>\n",
              "      <td>2.800000e+01</td>\n",
              "    </tr>\n",
              "    <tr>\n",
              "      <th>75%</th>\n",
              "      <td>2.016000e+03</td>\n",
              "      <td>2.710000e+02</td>\n",
              "      <td>1.080000e+02</td>\n",
              "      <td>8.819482e-01</td>\n",
              "      <td>5.600000e+01</td>\n",
              "      <td>0.000000e+00</td>\n",
              "      <td>2.000000e+00</td>\n",
              "      <td>9.940000e+08</td>\n",
              "      <td>2.800000e+01</td>\n",
              "    </tr>\n",
              "    <tr>\n",
              "      <th>max</th>\n",
              "      <td>2.018000e+03</td>\n",
              "      <td>3.650000e+02</td>\n",
              "      <td>1.440000e+02</td>\n",
              "      <td>1.943749e+03</td>\n",
              "      <td>1.449700e+04</td>\n",
              "      <td>1.449600e+04</td>\n",
              "      <td>1.292000e+04</td>\n",
              "      <td>4.996440e+13</td>\n",
              "      <td>2.800000e+01</td>\n",
              "    </tr>\n",
              "  </tbody>\n",
              "</table>\n",
              "</div>\n",
              "      <button class=\"colab-df-convert\" onclick=\"convertToInteractive('df-b470a463-f216-46ac-adde-8e454c3745bd')\"\n",
              "              title=\"Convert this dataframe to an interactive table.\"\n",
              "              style=\"display:none;\">\n",
              "        \n",
              "  <svg xmlns=\"http://www.w3.org/2000/svg\" height=\"24px\"viewBox=\"0 0 24 24\"\n",
              "       width=\"24px\">\n",
              "    <path d=\"M0 0h24v24H0V0z\" fill=\"none\"/>\n",
              "    <path d=\"M18.56 5.44l.94 2.06.94-2.06 2.06-.94-2.06-.94-.94-2.06-.94 2.06-2.06.94zm-11 1L8.5 8.5l.94-2.06 2.06-.94-2.06-.94L8.5 2.5l-.94 2.06-2.06.94zm10 10l.94 2.06.94-2.06 2.06-.94-2.06-.94-.94-2.06-.94 2.06-2.06.94z\"/><path d=\"M17.41 7.96l-1.37-1.37c-.4-.4-.92-.59-1.43-.59-.52 0-1.04.2-1.43.59L10.3 9.45l-7.72 7.72c-.78.78-.78 2.05 0 2.83L4 21.41c.39.39.9.59 1.41.59.51 0 1.02-.2 1.41-.59l7.78-7.78 2.81-2.81c.8-.78.8-2.07 0-2.86zM5.41 20L4 18.59l7.72-7.72 1.47 1.35L5.41 20z\"/>\n",
              "  </svg>\n",
              "      </button>\n",
              "      \n",
              "  <style>\n",
              "    .colab-df-container {\n",
              "      display:flex;\n",
              "      flex-wrap:wrap;\n",
              "      gap: 12px;\n",
              "    }\n",
              "\n",
              "    .colab-df-convert {\n",
              "      background-color: #E8F0FE;\n",
              "      border: none;\n",
              "      border-radius: 50%;\n",
              "      cursor: pointer;\n",
              "      display: none;\n",
              "      fill: #1967D2;\n",
              "      height: 32px;\n",
              "      padding: 0 0 0 0;\n",
              "      width: 32px;\n",
              "    }\n",
              "\n",
              "    .colab-df-convert:hover {\n",
              "      background-color: #E2EBFA;\n",
              "      box-shadow: 0px 1px 2px rgba(60, 64, 67, 0.3), 0px 1px 3px 1px rgba(60, 64, 67, 0.15);\n",
              "      fill: #174EA6;\n",
              "    }\n",
              "\n",
              "    [theme=dark] .colab-df-convert {\n",
              "      background-color: #3B4455;\n",
              "      fill: #D2E3FC;\n",
              "    }\n",
              "\n",
              "    [theme=dark] .colab-df-convert:hover {\n",
              "      background-color: #434B5C;\n",
              "      box-shadow: 0px 1px 3px 1px rgba(0, 0, 0, 0.15);\n",
              "      filter: drop-shadow(0px 1px 2px rgba(0, 0, 0, 0.3));\n",
              "      fill: #FFFFFF;\n",
              "    }\n",
              "  </style>\n",
              "\n",
              "      <script>\n",
              "        const buttonEl =\n",
              "          document.querySelector('#df-b470a463-f216-46ac-adde-8e454c3745bd button.colab-df-convert');\n",
              "        buttonEl.style.display =\n",
              "          google.colab.kernel.accessAllowed ? 'block' : 'none';\n",
              "\n",
              "        async function convertToInteractive(key) {\n",
              "          const element = document.querySelector('#df-b470a463-f216-46ac-adde-8e454c3745bd');\n",
              "          const dataTable =\n",
              "            await google.colab.kernel.invokeFunction('convertToInteractive',\n",
              "                                                     [key], {});\n",
              "          if (!dataTable) return;\n",
              "\n",
              "          const docLinkHtml = 'Like what you see? Visit the ' +\n",
              "            '<a target=\"_blank\" href=https://colab.research.google.com/notebooks/data_table.ipynb>data table notebook</a>'\n",
              "            + ' to learn more about interactive tables.';\n",
              "          element.innerHTML = '';\n",
              "          dataTable['output_type'] = 'display_data';\n",
              "          await google.colab.output.renderOutput(dataTable, element);\n",
              "          const docLink = document.createElement('div');\n",
              "          docLink.innerHTML = docLinkHtml;\n",
              "          element.appendChild(docLink);\n",
              "        }\n",
              "      </script>\n",
              "    </div>\n",
              "  </div>\n",
              "  "
            ]
          },
          "metadata": {},
          "execution_count": 8
        },
        {
          "output_type": "display_data",
          "data": {
            "text/plain": [
              "<Figure size 432x288 with 2 Axes>"
            ],
            "image/png": "[encoded data removed]"
          },
          "metadata": {
            "needs_background": "light"
          }
        }
      ]
    },
    {
      "cell_type": "markdown",
      "source": [
        "# **Data split**"
      ],
      "metadata": {
        "id": "YvHLDTVZ5j-y"
      }
    },
    {
      "cell_type": "code",
      "source": [
        "# IID - SHUFFLING DATA \n",
        "np.random.seed(0)\n",
        "data = df.sample(frac=1)\n",
        "Y = df['label']\n",
        "X = df.drop(['label' ,'address'],axis = 1)\n",
        "print(X.shape , Y.shape)"
      ],
      "metadata": {
        "colab": {
          "base_uri": "https://localhost:8080/"
        },
        "id": "B7ixsCw5TpHO",
        "outputId": "e3dd44f1-2160-4ff5-97f9-93477467fa35"
      },
      "execution_count": 19,
      "outputs": [
        {
          "output_type": "stream",
          "name": "stdout",
          "text": [
            "(2916697, 8) (2916697,)\n"
          ]
        }
      ]
    },
    {
      "cell_type": "code",
      "source": [
        "# Custom test_trian_evalustion split function\n",
        "def train_test_val_split(x , y , train, test , validation):\n",
        "  random1 = np.random.rand(x.shape[0])\n",
        "  split1 = random1 < np.percentile(random1,train*100)\n",
        "  # choosing random train%  data and putting them in x train and putting the not chosen 100 - train % into test&val array\n",
        "  x_train = x[split1]\n",
        "  y_train = y[split1]\n",
        "  x_test_val = x[~split1]\n",
        "  y_test_val = y[~split1]\n",
        "  # dividing test&val array into test set and val set using same process as above.\n",
        "  random2 = np.random.rand(x_test_val.shape[0])\n",
        "  validation = validation/(validation + test)\n",
        "  split2 = random2 < np.percentile(random2,(1-validation)*100)\n",
        "  x_test = x_test_val[split2]\n",
        "  y_test = y_test_val[split2]\n",
        "  x_val = x_test_val[~split2]\n",
        "  y_val = y_test_val[~split2]\n",
        "  # return the test ,train and val arrays.\n",
        "  return x_train,x_test,x_val,y_train,y_test,y_val"
      ],
      "metadata": {
        "id": "uyJhtZJhuQ6D"
      },
      "execution_count": 20,
      "outputs": []
    },
    {
      "cell_type": "code",
      "source": [
        "x_train,x_test,x_val,y_train,y_test,y_val = train_test_val_split(X,Y,0.70 ,0.15,0.15)\n",
        "# cheching the shapes to make sure of the split ration\n",
        "x_train.shape, x_test.shape, x_val.shape, y_train.shape, y_test.shape, y_val.shape"
      ],
      "metadata": {
        "colab": {
          "base_uri": "https://localhost:8080/"
        },
        "id": "Gt25ZPSmYsKx",
        "outputId": "425bfc0e-9d01-44d0-9447-afe49138f2c2"
      },
      "execution_count": 23,
      "outputs": [
        {
          "output_type": "execute_result",
          "data": {
            "text/plain": [
              "((2041688, 8), (437504, 8), (437505, 8), (2041688,), (437504,), (437505,))"
            ]
          },
          "metadata": {},
          "execution_count": 23
        }
      ]
    },
    {
      "cell_type": "markdown",
      "source": [
        "# **Part A**"
      ],
      "metadata": {
        "id": "lxCTKT-y1q9n"
      }
    },
    {
      "cell_type": "code",
      "source": [
        "def accuracy(y_predicted, y_test):\n",
        "    return np.sum(y_test == y_predicted)/len(y_test)"
      ],
      "metadata": {
        "id": "4KnSpN6yY4ur"
      },
      "execution_count": null,
      "outputs": []
    },
    {
      "cell_type": "code",
      "source": [
        "from sklearn.tree import DecisionTreeClassifier\n",
        "\n",
        "gini_model = DecisionTreeClassifier(criterion=\"gini\")\n",
        "entropy_model = DecisionTreeClassifier(criterion=\"entropy\")\n",
        "\n",
        "gini_model.fit(x_train,y_train)\n",
        "entropy_model.fit(x_train,y_train)\n",
        "\n",
        "print(\"gini accuracy on test set:\",accuracy(gini_model.predict(x_test),y_test))\n",
        "print(\"entropy accuracy on test set:\",accuracy(entropy_model.predict(x_test),y_test))"
      ],
      "metadata": {
        "colab": {
          "base_uri": "https://localhost:8080/"
        },
        "id": "_LdYqLmxYovW",
        "outputId": "0aaae0a3-7d2b-41ae-eed3-b00aaaa68973"
      },
      "execution_count": null,
      "outputs": [
        {
          "output_type": "stream",
          "name": "stdout",
          "text": [
            "gini accuracy on test set: 0.9821487346401404\n",
            "entropy accuracy on test set: 0.9827041581334114\n"
          ]
        }
      ]
    },
    {
      "cell_type": "code",
      "source": [
        "depths = [4 , 8 , 10 , 15 , 20]\n",
        "gini_accuracies_testing = list() \n",
        "gini_accuracies_training = list() \n",
        "\n",
        "entropy_accuracies_testing = list() \n",
        "entropy_accuracies_training = list() \n",
        "\n",
        "for x in depths:\n",
        "  # models for entropy and gini\n",
        "  gini_model = DecisionTreeClassifier(criterion=\"gini\" , max_depth=x)\n",
        "  entropy_model = DecisionTreeClassifier(criterion=\"entropy\" , max_depth=x)\n",
        "\n",
        "  # fitting both models with train data\n",
        "  gini_model.fit(x_train,y_train)\n",
        "  entropy_model.fit(x_train,y_train)\n",
        "\n",
        "  # accuracy of test data\n",
        "  gini_accuracies_testing.append(accuracy(gini_model.predict(x_test),y_test))\n",
        "  entropy_accuracies_testing.append(accuracy(entropy_model.predict(x_test),y_test))\n",
        "\n",
        "  # accuracy of training data\n",
        "  gini_accuracies_training.append(accuracy(gini_model.predict(x_train),y_train))\n",
        "  entropy_accuracies_training.append(accuracy(entropy_model.predict(x_train),y_train))\n"
      ],
      "metadata": {
        "id": "Ikz2HVmxnA5h"
      },
      "execution_count": null,
      "outputs": []
    },
    {
      "cell_type": "code",
      "source": [
        "accuracy_table = pd.DataFrame()\n",
        "accuracy_table.insert(loc=0, column='depth', value=[4,8, 10 , 15,20])\n",
        "accuracy_table.insert(loc=1, column='gini_test', value=gini_accuracies_testing)\n",
        "accuracy_table.insert(loc=2, column='entropy_test', value=entropy_accuracies_testing)\n",
        "accuracy_table.insert(loc=3, column='gini_train', value=gini_accuracies_training)\n",
        "accuracy_table.insert(loc=4, column='entropy_train', value=entropy_accuracies_training)\n",
        "accuracy_table"
      ],
      "metadata": {
        "colab": {
          "base_uri": "https://localhost:8080/",
          "height": 266
        },
        "id": "_hjz8sDKtcwk",
        "outputId": "7df10758-9d9c-40c0-cfde-7aed7aa22324"
      },
      "execution_count": null,
      "outputs": [
        {
          "output_type": "execute_result",
          "data": {
            "text/plain": [
              "   depth  gini_test  entropy_test  gini_train  entropy_train\n",
              "0      4   0.985838      0.985838    0.985791       0.985791\n",
              "1      8   0.986425      0.986108    0.986419       0.986096\n",
              "2     10   0.986658      0.987431    0.986805       0.987487\n",
              "3     15   0.988060      0.988130    0.989847       0.990471\n",
              "4     20   0.986613      0.986224    0.993416       0.994002"
            ],
            "text/html": [
              "\n",
              "  <div id=\"df-02c9d192-57b4-47a1-acd8-86ab0f5aea16\">\n",
              "    <div class=\"colab-df-container\">\n",
              "      <div>\n",
              "<style scoped>\n",
              "    .dataframe tbody tr th:only-of-type {\n",
              "        vertical-align: middle;\n",
              "    }\n",
              "\n",
              "    .dataframe tbody tr th {\n",
              "        vertical-align: top;\n",
              "    }\n",
              "\n",
              "    .dataframe thead th {\n",
              "        text-align: right;\n",
              "    }\n",
              "</style>\n",
              "<table border=\"1\" class=\"dataframe\">\n",
              "  <thead>\n",
              "    <tr style=\"text-align: right;\">\n",
              "      <th></th>\n",
              "      <th>depth</th>\n",
              "      <th>gini_test</th>\n",
              "      <th>entropy_test</th>\n",
              "      <th>gini_train</th>\n",
              "      <th>entropy_train</th>\n",
              "    </tr>\n",
              "  </thead>\n",
              "  <tbody>\n",
              "    <tr>\n",
              "      <th>0</th>\n",
              "      <td>4</td>\n",
              "      <td>0.985838</td>\n",
              "      <td>0.985838</td>\n",
              "      <td>0.985791</td>\n",
              "      <td>0.985791</td>\n",
              "    </tr>\n",
              "    <tr>\n",
              "      <th>1</th>\n",
              "      <td>8</td>\n",
              "      <td>0.986425</td>\n",
              "      <td>0.986108</td>\n",
              "      <td>0.986419</td>\n",
              "      <td>0.986096</td>\n",
              "    </tr>\n",
              "    <tr>\n",
              "      <th>2</th>\n",
              "      <td>10</td>\n",
              "      <td>0.986658</td>\n",
              "      <td>0.987431</td>\n",
              "      <td>0.986805</td>\n",
              "      <td>0.987487</td>\n",
              "    </tr>\n",
              "    <tr>\n",
              "      <th>3</th>\n",
              "      <td>15</td>\n",
              "      <td>0.988060</td>\n",
              "      <td>0.988130</td>\n",
              "      <td>0.989847</td>\n",
              "      <td>0.990471</td>\n",
              "    </tr>\n",
              "    <tr>\n",
              "      <th>4</th>\n",
              "      <td>20</td>\n",
              "      <td>0.986613</td>\n",
              "      <td>0.986224</td>\n",
              "      <td>0.993416</td>\n",
              "      <td>0.994002</td>\n",
              "    </tr>\n",
              "  </tbody>\n",
              "</table>\n",
              "</div>\n",
              "      <button class=\"colab-df-convert\" onclick=\"convertToInteractive('df-02c9d192-57b4-47a1-acd8-86ab0f5aea16')\"\n",
              "              title=\"Convert this dataframe to an interactive table.\"\n",
              "              style=\"display:none;\">\n",
              "        \n",
              "  <svg xmlns=\"http://www.w3.org/2000/svg\" height=\"24px\"viewBox=\"0 0 24 24\"\n",
              "       width=\"24px\">\n",
              "    <path d=\"M0 0h24v24H0V0z\" fill=\"none\"/>\n",
              "    <path d=\"M18.56 5.44l.94 2.06.94-2.06 2.06-.94-2.06-.94-.94-2.06-.94 2.06-2.06.94zm-11 1L8.5 8.5l.94-2.06 2.06-.94-2.06-.94L8.5 2.5l-.94 2.06-2.06.94zm10 10l.94 2.06.94-2.06 2.06-.94-2.06-.94-.94-2.06-.94 2.06-2.06.94z\"/><path d=\"M17.41 7.96l-1.37-1.37c-.4-.4-.92-.59-1.43-.59-.52 0-1.04.2-1.43.59L10.3 9.45l-7.72 7.72c-.78.78-.78 2.05 0 2.83L4 21.41c.39.39.9.59 1.41.59.51 0 1.02-.2 1.41-.59l7.78-7.78 2.81-2.81c.8-.78.8-2.07 0-2.86zM5.41 20L4 18.59l7.72-7.72 1.47 1.35L5.41 20z\"/>\n",
              "  </svg>\n",
              "      </button>\n",
              "      \n",
              "  <style>\n",
              "    .colab-df-container {\n",
              "      display:flex;\n",
              "      flex-wrap:wrap;\n",
              "      gap: 12px;\n",
              "    }\n",
              "\n",
              "    .colab-df-convert {\n",
              "      background-color: #E8F0FE;\n",
              "      border: none;\n",
              "      border-radius: 50%;\n",
              "      cursor: pointer;\n",
              "      display: none;\n",
              "      fill: #1967D2;\n",
              "      height: 32px;\n",
              "      padding: 0 0 0 0;\n",
              "      width: 32px;\n",
              "    }\n",
              "\n",
              "    .colab-df-convert:hover {\n",
              "      background-color: #E2EBFA;\n",
              "      box-shadow: 0px 1px 2px rgba(60, 64, 67, 0.3), 0px 1px 3px 1px rgba(60, 64, 67, 0.15);\n",
              "      fill: #174EA6;\n",
              "    }\n",
              "\n",
              "    [theme=dark] .colab-df-convert {\n",
              "      background-color: #3B4455;\n",
              "      fill: #D2E3FC;\n",
              "    }\n",
              "\n",
              "    [theme=dark] .colab-df-convert:hover {\n",
              "      background-color: #434B5C;\n",
              "      box-shadow: 0px 1px 3px 1px rgba(0, 0, 0, 0.15);\n",
              "      filter: drop-shadow(0px 1px 2px rgba(0, 0, 0, 0.3));\n",
              "      fill: #FFFFFF;\n",
              "    }\n",
              "  </style>\n",
              "\n",
              "      <script>\n",
              "        const buttonEl =\n",
              "          document.querySelector('#df-02c9d192-57b4-47a1-acd8-86ab0f5aea16 button.colab-df-convert');\n",
              "        buttonEl.style.display =\n",
              "          google.colab.kernel.accessAllowed ? 'block' : 'none';\n",
              "\n",
              "        async function convertToInteractive(key) {\n",
              "          const element = document.querySelector('#df-02c9d192-57b4-47a1-acd8-86ab0f5aea16');\n",
              "          const dataTable =\n",
              "            await google.colab.kernel.invokeFunction('convertToInteractive',\n",
              "                                                     [key], {});\n",
              "          if (!dataTable) return;\n",
              "\n",
              "          const docLinkHtml = 'Like what you see? Visit the ' +\n",
              "            '<a target=\"_blank\" href=https://colab.research.google.com/notebooks/data_table.ipynb>data table notebook</a>'\n",
              "            + ' to learn more about interactive tables.';\n",
              "          element.innerHTML = '';\n",
              "          dataTable['output_type'] = 'display_data';\n",
              "          await google.colab.output.renderOutput(dataTable, element);\n",
              "          const docLink = document.createElement('div');\n",
              "          docLink.innerHTML = docLinkHtml;\n",
              "          element.appendChild(docLink);\n",
              "        }\n",
              "      </script>\n",
              "    </div>\n",
              "  </div>\n",
              "  "
            ]
          },
          "metadata": {},
          "execution_count": 24
        }
      ]
    },
    {
      "cell_type": "code",
      "source": [
        "print(\"gini test set accuracy :     \" , gini_accuracies_testing)\n",
        "print(\"entropy test set accuracy :  \" , entropy_accuracies_testing)\n",
        "print(\"gini train set accuracy :    \" , gini_accuracies_training)\n",
        "print(\"entropy train set accuracy : \" , entropy_accuracies_training)"
      ],
      "metadata": {
        "colab": {
          "base_uri": "https://localhost:8080/"
        },
        "id": "1jQpsurAoN0t",
        "outputId": "6084821f-fb3b-41fb-dced-88363f201960"
      },
      "execution_count": null,
      "outputs": [
        {
          "output_type": "stream",
          "name": "stdout",
          "text": [
            "gini test set accuracy :      [0.9858378437682855, 0.9864252669689877, 0.9866584076945583, 0.9880595377413692, 0.9866126938267993]\n",
            "entropy test set accuracy :   [0.9858378437682855, 0.9861075555880632, 0.987430972059684, 0.9881303942363956, 0.9862241259508484]\n",
            "gini train set accuracy :     [0.9857906790851492, 0.986419080682259, 0.9868045460422944, 0.9898466367045308, 0.9934157422681624]\n",
            "entropy train set accuracy :  [0.9857906790851492, 0.9860963085446944, 0.9874868246274651, 0.9904706301844356, 0.9940015320656241]\n"
          ]
        }
      ]
    },
    {
      "cell_type": "code",
      "source": [
        "import numpy as np\n",
        "from matplotlib import pyplot as plt\n",
        "plt.rcParams[\"figure.figsize\"] = [18, 6]\n",
        "plt.rcParams[\"figure.autolayout\"] = True\n",
        "y1 = gini_accuracies_training\n",
        "y2 = gini_accuracies_testing\n",
        "y3 = entropy_accuracies_training\n",
        "y4 = entropy_accuracies_testing\n",
        "plt.subplot(121)\n",
        "plt.xlabel('Depth values')\n",
        "plt.ylabel('Accuracy')\n",
        "plt.title(\"Accuracy vs Depth Graph (gini)\")\n",
        "plt.plot(depths , y1 , marker='o', color='red', label='training')\n",
        "plt.plot(depths ,y2 , marker='o', color='blue', label='testing')\n",
        "plt.legend()\n",
        "plt.subplot(122)\n",
        "plt.xlabel('Depth values')\n",
        "plt.ylabel('Accuracy')\n",
        "plt.title(\"Accuracy vs Depth Graph (entropy)\")\n",
        "plt.plot(depths , y3 , marker='o', color='red', label='training')\n",
        "plt.plot(depths , y4 , marker='o', color='blue', label='testing')\n",
        "plt.legend()\n",
        "plt.show()"
      ],
      "metadata": {
        "colab": {
          "base_uri": "https://localhost:8080/",
          "height": 54
        },
        "id": "m9fS5_MHpWV4",
        "outputId": "014cebbd-dd94-4420-a7ad-834dfe9edf9d"
      },
      "execution_count": null,
      "outputs": [
        {
          "output_type": "display_data",
          "data": {
            "text/plain": [
              "<Figure size 1296x432 with 2 Axes>"
            ],
            "image/png": "[encoded data removed]"
          },
          "metadata": {
            "needs_background": "light"
          }
        }
      ]
    },
    {
      "cell_type": "markdown",
      "source": [
        "# **Part b**"
      ],
      "metadata": {
        "id": "5iTRKxafQHOF"
      }
    },
    {
      "cell_type": "code",
      "source": [
        "import numpy as np\n",
        "from sklearn.tree import DecisionTreeClassifier\n",
        "from sklearn import datasets\n",
        "from scipy import stats\n",
        "from matplotlib import pyplot as plt"
      ],
      "metadata": {
        "id": "nCPAUD344ivS"
      },
      "execution_count": 34,
      "outputs": []
    },
    {
      "cell_type": "code",
      "source": [
        "def train_trees(X1, Y1, num_trees):\n",
        "    indices = [i for i in range(X1.shape[0])]\n",
        "    trees = [DecisionTreeClassifier(criterion=\"entropy\", max_depth=3) for _ in range(num_trees)]\n",
        "    for tree in trees:\n",
        "        random_indices = np.random.choice(indices, X1.shape[0])\n",
        "        X_bootstrap = X1.iloc[random_indices]\n",
        "        Y_bootstrap = Y1.iloc[random_indices]\n",
        "        tree.fit(X_bootstrap, Y_bootstrap)\n",
        "    return trees\n"
      ],
      "metadata": {
        "id": "lTaJvmfb4BmB"
      },
      "execution_count": 35,
      "outputs": []
    },
    {
      "cell_type": "code",
      "source": [
        "def predict(X, trees):\n",
        "    predictions = []\n",
        "    for tree in trees:\n",
        "        Y_pred = tree.predict(X)\n",
        "        predictions.append(Y_pred)\n",
        "    \n",
        "    predictions = np.array(predictions)\n",
        "    prediction = np.array(stats.mode(predictions))\n",
        "    return prediction[0, 0, :]"
      ],
      "metadata": {
        "id": "6iOcn0Lq4QBz"
      },
      "execution_count": 36,
      "outputs": []
    },
    {
      "cell_type": "code",
      "source": [
        "trees = train_trees(x_train, y_train, 100)\n",
        "prediction = predict(x_test, trees)\n",
        "accuracy = (prediction == y_test).sum() / prediction.shape[0]\n",
        "print(\"Ensembling Entropy accuracy is : \", accuracy)"
      ],
      "metadata": {
        "colab": {
          "base_uri": "https://localhost:8080/"
        },
        "id": "ACOBD22z4CE6",
        "outputId": "a7372d9d-8a4a-4daa-f1ee-dc66d43b3b55"
      },
      "execution_count": 37,
      "outputs": [
        {
          "output_type": "stream",
          "name": "stdout",
          "text": [
            "Ensembling Entropy accuracy is :  0.9859772710649503\n"
          ]
        }
      ]
    },
    {
      "cell_type": "code",
      "source": [
        "from sklearn.ensemble import RandomForestClassifier\n",
        "\n",
        "rf = RandomForestClassifier(n_estimators=100,criterion=\"entropy\",max_depth=3,max_samples=0.5)\n",
        "rf.fit(x_train,y_train)\n",
        "\n",
        "print(\"Ensembling train accuracy  : \" , accuracy(rf.predict(x_train),y_train))\n",
        "print(\"Ensembling test accuracy   : \" , accuracy(rf.predict(x_test),y_test))\n",
        "print(\"the accuracy of ensembling with depth 3 with mush faster option then getting better accuracy using a decision tree of depth 15 \")\n",
        "print(\"entropy test set accuracy  : \" , entropy_accuracies_testing)\n",
        "print(\"entropy train set accuracy : \" , entropy_accuracies_training)\n"
      ],
      "metadata": {
        "colab": {
          "base_uri": "https://localhost:8080/"
        },
        "id": "pZeHCs59wOcq",
        "outputId": "405f13c9-c2a4-48e9-97c4-62cc771fdccd"
      },
      "execution_count": null,
      "outputs": [
        {
          "output_type": "stream",
          "name": "stdout",
          "text": [
            "Ensembling train accuracy  :  0.9857906790851492\n",
            "Ensembling test accuracy   :  0.9858378437682855\n",
            "the accuracy of ensembling with depth 3 with mush faster option then getting better accuracy using a decision tree of depth 15 \n",
            "entropy test set accuracy  :  [0.9858378437682855, 0.9861075555880632, 0.987430972059684, 0.9881303942363956, 0.9862241259508484]\n",
            "entropy train set accuracy :  [0.9857906790851492, 0.9860963085446944, 0.9874868246274651, 0.9904706301844356, 0.9940015320656241]\n"
          ]
        }
      ]
    },
    {
      "cell_type": "markdown",
      "source": [
        "# **Part c**"
      ],
      "metadata": {
        "id": "7Njp3yCfxGaV"
      }
    },
    {
      "cell_type": "code",
      "source": [
        "#Adaboost\n",
        "estimators = [4,8,10,15,20]\n",
        "for x in estimators:\n",
        "  print(\"for estimator :\",x)\n",
        "  DT= DecisionTreeClassifier(criterion='entropy')\n",
        "  ada_ensemble = AdaBoostClassifier(base_estimator = DT, n_estimators= x, random_state=123)\n",
        "  ada_ensemble.fit(x_train, y_train)\n",
        "  y_pred = ada_ensemble.predict(x_test)\n",
        "  print(\"Accuracy on test set : \",accuracy(y_test,y_pred))"
      ],
      "metadata": {
        "colab": {
          "base_uri": "https://localhost:8080/"
        },
        "id": "LDM_bUWKE2rA",
        "outputId": "cbce61d5-f223-4b71-d98a-d4b8e319f532"
      },
      "execution_count": null,
      "outputs": [
        {
          "output_type": "stream",
          "name": "stdout",
          "text": [
            "for estimator : 4\n",
            "Accuracy on test set :  0.9835887214745466\n",
            "for estimator : 8\n",
            "Accuracy on test set :  0.9855521320947923\n",
            "for estimator : 10\n",
            "Accuracy on test set :  0.9845715696313634\n",
            "for estimator : 15\n",
            "Accuracy on test set :  0.984500713136337\n",
            "for estimator : 20\n",
            "Accuracy on test set :  0.9855109896138092\n"
          ]
        }
      ]
    }
  ]
}