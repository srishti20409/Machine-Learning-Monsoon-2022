{
  "cells": [
    {
      "cell_type": "markdown",
      "source": [
        "# **Question 2**\n"
      ],
      "metadata": {
        "id": "Uzhx3K1hU7BT"
      }
    },
    {
      "cell_type": "markdown",
      "source": [
        "# **Basic important libraries**"
      ],
      "metadata": {
        "id": "Z8DRe012R0mP"
      }
    },
    {
      "cell_type": "code",
      "execution_count": 6,
      "metadata": {
        "id": "4NgaSRtoFw4U"
      },
      "outputs": [],
      "source": [
        "import math, copy\n",
        "import numpy as np\n",
        "import matplotlib.pyplot as plt\n",
        "import pandas as pd\n",
        "import seaborn as sns\n",
        "from sklearn.preprocessing import StandardScaler\n",
        "import math "
      ]
    },
    {
      "cell_type": "markdown",
      "source": [
        "# **Drive Mount**"
      ],
      "metadata": {
        "id": "F78pTyjYRuCk"
      }
    },
    {
      "cell_type": "code",
      "source": [
        "from google.colab import drive\n",
        "drive.mount('/content/drive')"
      ],
      "metadata": {
        "colab": {
          "base_uri": "https://localhost:8080/"
        },
        "id": "JP0Gzp_VzsX1",
        "outputId": "f922a06a-cabd-40eb-ea35-911191b72d50"
      },
      "execution_count": 8,
      "outputs": [
        {
          "output_type": "stream",
          "name": "stdout",
          "text": [
            "Drive already mounted at /content/drive; to attempt to forcibly remount, call drive.mount(\"/content/drive\", force_remount=True).\n"
          ]
        }
      ]
    },
    {
      "cell_type": "code",
      "source": [
        "%cd /content/drive/MyDrive/Machine Learning/Assignment 1/Q2 dataset"
      ],
      "metadata": {
        "colab": {
          "base_uri": "https://localhost:8080/"
        },
        "id": "Z0Njh01K0dTC",
        "outputId": "e40711ad-edba-42b3-b0bc-05a997aee9f6"
      },
      "execution_count": 9,
      "outputs": [
        {
          "output_type": "stream",
          "name": "stdout",
          "text": [
            "/content/drive/MyDrive/Machine Learning/Assignment 1/Q2 dataset\n"
          ]
        }
      ]
    },
    {
      "cell_type": "markdown",
      "source": [
        "# **DATASET**"
      ],
      "metadata": {
        "id": "ruqKflEFVVQx"
      }
    },
    {
      "cell_type": "code",
      "source": [
        "df = pd.read_csv(\"Real estate.csv\" , index_col = 'No')\n",
        "df"
      ],
      "metadata": {
        "colab": {
          "base_uri": "https://localhost:8080/",
          "height": 599
        },
        "id": "7kariUxF0uhu",
        "outputId": "1ae2c9b7-b698-4265-f339-b21343772da5"
      },
      "execution_count": 11,
      "outputs": [
        {
          "output_type": "execute_result",
          "data": {
            "text/plain": [
              "     X1 transaction date  X2 house age  \\\n",
              "No                                       \n",
              "1               2012.917          32.0   \n",
              "2               2012.917          19.5   \n",
              "3               2013.583          13.3   \n",
              "4               2013.500          13.3   \n",
              "5               2012.833           5.0   \n",
              "..                   ...           ...   \n",
              "410             2013.000          13.7   \n",
              "411             2012.667           5.6   \n",
              "412             2013.250          18.8   \n",
              "413             2013.000           8.1   \n",
              "414             2013.500           6.5   \n",
              "\n",
              "     X3 distance to the nearest MRT station  X4 number of convenience stores  \\\n",
              "No                                                                             \n",
              "1                                  84.87882                               10   \n",
              "2                                 306.59470                                9   \n",
              "3                                 561.98450                                5   \n",
              "4                                 561.98450                                5   \n",
              "5                                 390.56840                                5   \n",
              "..                                      ...                              ...   \n",
              "410                              4082.01500                                0   \n",
              "411                                90.45606                                9   \n",
              "412                               390.96960                                7   \n",
              "413                               104.81010                                5   \n",
              "414                                90.45606                                9   \n",
              "\n",
              "     X5 latitude  X6 longitude  Y house price of unit area  \n",
              "No                                                          \n",
              "1       24.98298     121.54024                        37.9  \n",
              "2       24.98034     121.53951                        42.2  \n",
              "3       24.98746     121.54391                        47.3  \n",
              "4       24.98746     121.54391                        54.8  \n",
              "5       24.97937     121.54245                        43.1  \n",
              "..           ...           ...                         ...  \n",
              "410     24.94155     121.50381                        15.4  \n",
              "411     24.97433     121.54310                        50.0  \n",
              "412     24.97923     121.53986                        40.6  \n",
              "413     24.96674     121.54067                        52.5  \n",
              "414     24.97433     121.54310                        63.9  \n",
              "\n",
              "[414 rows x 7 columns]"
            ],
            "text/html": [
              "\n",
              "  <div id=\"df-6bceaf27-98e4-4e81-af66-8a26e104485c\">\n",
              "    <div class=\"colab-df-container\">\n",
              "      <div>\n",
              "<style scoped>\n",
              "    .dataframe tbody tr th:only-of-type {\n",
              "        vertical-align: middle;\n",
              "    }\n",
              "\n",
              "    .dataframe tbody tr th {\n",
              "        vertical-align: top;\n",
              "    }\n",
              "\n",
              "    .dataframe thead th {\n",
              "        text-align: right;\n",
              "    }\n",
              "</style>\n",
              "<table border=\"1\" class=\"dataframe\">\n",
              "  <thead>\n",
              "    <tr style=\"text-align: right;\">\n",
              "      <th></th>\n",
              "      <th>X1 transaction date</th>\n",
              "      <th>X2 house age</th>\n",
              "      <th>X3 distance to the nearest MRT station</th>\n",
              "      <th>X4 number of convenience stores</th>\n",
              "      <th>X5 latitude</th>\n",
              "      <th>X6 longitude</th>\n",
              "      <th>Y house price of unit area</th>\n",
              "    </tr>\n",
              "    <tr>\n",
              "      <th>No</th>\n",
              "      <th></th>\n",
              "      <th></th>\n",
              "      <th></th>\n",
              "      <th></th>\n",
              "      <th></th>\n",
              "      <th></th>\n",
              "      <th></th>\n",
              "    </tr>\n",
              "  </thead>\n",
              "  <tbody>\n",
              "    <tr>\n",
              "      <th>1</th>\n",
              "      <td>2012.917</td>\n",
              "      <td>32.0</td>\n",
              "      <td>84.87882</td>\n",
              "      <td>10</td>\n",
              "      <td>24.98298</td>\n",
              "      <td>121.54024</td>\n",
              "      <td>37.9</td>\n",
              "    </tr>\n",
              "    <tr>\n",
              "      <th>2</th>\n",
              "      <td>2012.917</td>\n",
              "      <td>19.5</td>\n",
              "      <td>306.59470</td>\n",
              "      <td>9</td>\n",
              "      <td>24.98034</td>\n",
              "      <td>121.53951</td>\n",
              "      <td>42.2</td>\n",
              "    </tr>\n",
              "    <tr>\n",
              "      <th>3</th>\n",
              "      <td>2013.583</td>\n",
              "      <td>13.3</td>\n",
              "      <td>561.98450</td>\n",
              "      <td>5</td>\n",
              "      <td>24.98746</td>\n",
              "      <td>121.54391</td>\n",
              "      <td>47.3</td>\n",
              "    </tr>\n",
              "    <tr>\n",
              "      <th>4</th>\n",
              "      <td>2013.500</td>\n",
              "      <td>13.3</td>\n",
              "      <td>561.98450</td>\n",
              "      <td>5</td>\n",
              "      <td>24.98746</td>\n",
              "      <td>121.54391</td>\n",
              "      <td>54.8</td>\n",
              "    </tr>\n",
              "    <tr>\n",
              "      <th>5</th>\n",
              "      <td>2012.833</td>\n",
              "      <td>5.0</td>\n",
              "      <td>390.56840</td>\n",
              "      <td>5</td>\n",
              "      <td>24.97937</td>\n",
              "      <td>121.54245</td>\n",
              "      <td>43.1</td>\n",
              "    </tr>\n",
              "    <tr>\n",
              "      <th>...</th>\n",
              "      <td>...</td>\n",
              "      <td>...</td>\n",
              "      <td>...</td>\n",
              "      <td>...</td>\n",
              "      <td>...</td>\n",
              "      <td>...</td>\n",
              "      <td>...</td>\n",
              "    </tr>\n",
              "    <tr>\n",
              "      <th>410</th>\n",
              "      <td>2013.000</td>\n",
              "      <td>13.7</td>\n",
              "      <td>4082.01500</td>\n",
              "      <td>0</td>\n",
              "      <td>24.94155</td>\n",
              "      <td>121.50381</td>\n",
              "      <td>15.4</td>\n",
              "    </tr>\n",
              "    <tr>\n",
              "      <th>411</th>\n",
              "      <td>2012.667</td>\n",
              "      <td>5.6</td>\n",
              "      <td>90.45606</td>\n",
              "      <td>9</td>\n",
              "      <td>24.97433</td>\n",
              "      <td>121.54310</td>\n",
              "      <td>50.0</td>\n",
              "    </tr>\n",
              "    <tr>\n",
              "      <th>412</th>\n",
              "      <td>2013.250</td>\n",
              "      <td>18.8</td>\n",
              "      <td>390.96960</td>\n",
              "      <td>7</td>\n",
              "      <td>24.97923</td>\n",
              "      <td>121.53986</td>\n",
              "      <td>40.6</td>\n",
              "    </tr>\n",
              "    <tr>\n",
              "      <th>413</th>\n",
              "      <td>2013.000</td>\n",
              "      <td>8.1</td>\n",
              "      <td>104.81010</td>\n",
              "      <td>5</td>\n",
              "      <td>24.96674</td>\n",
              "      <td>121.54067</td>\n",
              "      <td>52.5</td>\n",
              "    </tr>\n",
              "    <tr>\n",
              "      <th>414</th>\n",
              "      <td>2013.500</td>\n",
              "      <td>6.5</td>\n",
              "      <td>90.45606</td>\n",
              "      <td>9</td>\n",
              "      <td>24.97433</td>\n",
              "      <td>121.54310</td>\n",
              "      <td>63.9</td>\n",
              "    </tr>\n",
              "  </tbody>\n",
              "</table>\n",
              "<p>414 rows × 7 columns</p>\n",
              "</div>\n",
              "      <button class=\"colab-df-convert\" onclick=\"convertToInteractive('df-6bceaf27-98e4-4e81-af66-8a26e104485c')\"\n",
              "              title=\"Convert this dataframe to an interactive table.\"\n",
              "              style=\"display:none;\">\n",
              "        \n",
              "  <svg xmlns=\"http://www.w3.org/2000/svg\" height=\"24px\"viewBox=\"0 0 24 24\"\n",
              "       width=\"24px\">\n",
              "    <path d=\"M0 0h24v24H0V0z\" fill=\"none\"/>\n",
              "    <path d=\"M18.56 5.44l.94 2.06.94-2.06 2.06-.94-2.06-.94-.94-2.06-.94 2.06-2.06.94zm-11 1L8.5 8.5l.94-2.06 2.06-.94-2.06-.94L8.5 2.5l-.94 2.06-2.06.94zm10 10l.94 2.06.94-2.06 2.06-.94-2.06-.94-.94-2.06-.94 2.06-2.06.94z\"/><path d=\"M17.41 7.96l-1.37-1.37c-.4-.4-.92-.59-1.43-.59-.52 0-1.04.2-1.43.59L10.3 9.45l-7.72 7.72c-.78.78-.78 2.05 0 2.83L4 21.41c.39.39.9.59 1.41.59.51 0 1.02-.2 1.41-.59l7.78-7.78 2.81-2.81c.8-.78.8-2.07 0-2.86zM5.41 20L4 18.59l7.72-7.72 1.47 1.35L5.41 20z\"/>\n",
              "  </svg>\n",
              "      </button>\n",
              "      \n",
              "  <style>\n",
              "    .colab-df-container {\n",
              "      display:flex;\n",
              "      flex-wrap:wrap;\n",
              "      gap: 12px;\n",
              "    }\n",
              "\n",
              "    .colab-df-convert {\n",
              "      background-color: #E8F0FE;\n",
              "      border: none;\n",
              "      border-radius: 50%;\n",
              "      cursor: pointer;\n",
              "      display: none;\n",
              "      fill: #1967D2;\n",
              "      height: 32px;\n",
              "      padding: 0 0 0 0;\n",
              "      width: 32px;\n",
              "    }\n",
              "\n",
              "    .colab-df-convert:hover {\n",
              "      background-color: #E2EBFA;\n",
              "      box-shadow: 0px 1px 2px rgba(60, 64, 67, 0.3), 0px 1px 3px 1px rgba(60, 64, 67, 0.15);\n",
              "      fill: #174EA6;\n",
              "    }\n",
              "\n",
              "    [theme=dark] .colab-df-convert {\n",
              "      background-color: #3B4455;\n",
              "      fill: #D2E3FC;\n",
              "    }\n",
              "\n",
              "    [theme=dark] .colab-df-convert:hover {\n",
              "      background-color: #434B5C;\n",
              "      box-shadow: 0px 1px 3px 1px rgba(0, 0, 0, 0.15);\n",
              "      filter: drop-shadow(0px 1px 2px rgba(0, 0, 0, 0.3));\n",
              "      fill: #FFFFFF;\n",
              "    }\n",
              "  </style>\n",
              "\n",
              "      <script>\n",
              "        const buttonEl =\n",
              "          document.querySelector('#df-6bceaf27-98e4-4e81-af66-8a26e104485c button.colab-df-convert');\n",
              "        buttonEl.style.display =\n",
              "          google.colab.kernel.accessAllowed ? 'block' : 'none';\n",
              "\n",
              "        async function convertToInteractive(key) {\n",
              "          const element = document.querySelector('#df-6bceaf27-98e4-4e81-af66-8a26e104485c');\n",
              "          const dataTable =\n",
              "            await google.colab.kernel.invokeFunction('convertToInteractive',\n",
              "                                                     [key], {});\n",
              "          if (!dataTable) return;\n",
              "\n",
              "          const docLinkHtml = 'Like what you see? Visit the ' +\n",
              "            '<a target=\"_blank\" href=https://colab.research.google.com/notebooks/data_table.ipynb>data table notebook</a>'\n",
              "            + ' to learn more about interactive tables.';\n",
              "          element.innerHTML = '';\n",
              "          dataTable['output_type'] = 'display_data';\n",
              "          await google.colab.output.renderOutput(dataTable, element);\n",
              "          const docLink = document.createElement('div');\n",
              "          docLink.innerHTML = docLinkHtml;\n",
              "          element.appendChild(docLink);\n",
              "        }\n",
              "      </script>\n",
              "    </div>\n",
              "  </div>\n",
              "  "
            ]
          },
          "metadata": {},
          "execution_count": 11
        }
      ]
    },
    {
      "cell_type": "code",
      "source": [
        "df.isnull().sum()"
      ],
      "metadata": {
        "id": "6UP21scuXv9L",
        "colab": {
          "base_uri": "https://localhost:8080/"
        },
        "outputId": "bee8a92b-f169-425f-ddaa-9ade0c341e7f"
      },
      "execution_count": 12,
      "outputs": [
        {
          "output_type": "execute_result",
          "data": {
            "text/plain": [
              "X1 transaction date                       0\n",
              "X2 house age                              0\n",
              "X3 distance to the nearest MRT station    0\n",
              "X4 number of convenience stores           0\n",
              "X5 latitude                               0\n",
              "X6 longitude                              0\n",
              "Y house price of unit area                0\n",
              "dtype: int64"
            ]
          },
          "metadata": {},
          "execution_count": 12
        }
      ]
    },
    {
      "cell_type": "code",
      "source": [
        "X = df.iloc[:,0:6]\n",
        "sc_x = StandardScaler()\n",
        "X = sc_x.fit_transform(X)\n",
        "# X = Xd.to_numpy()"
      ],
      "metadata": {
        "id": "KMy7K_Z93Fm_"
      },
      "execution_count": 13,
      "outputs": []
    },
    {
      "cell_type": "code",
      "source": [
        "Y = df.iloc[:,6:]\n",
        "Y = Y.to_numpy()"
      ],
      "metadata": {
        "id": "o-Y9uJBK4ODR"
      },
      "execution_count": 14,
      "outputs": []
    },
    {
      "cell_type": "code",
      "source": [
        "from sklearn.model_selection import train_test_split\n",
        "X_train, X_test, y_train, y_test = train_test_split(X, Y, test_size=0.2 , random_state=157 )"
      ],
      "metadata": {
        "id": "CtSVOIRySRYM"
      },
      "execution_count": 15,
      "outputs": []
    },
    {
      "cell_type": "code",
      "source": [
        "print(X_train.shape , X_test.shape , y_train.shape , y_test.shape)"
      ],
      "metadata": {
        "id": "-MRZINWYSo8i",
        "colab": {
          "base_uri": "https://localhost:8080/"
        },
        "outputId": "f73e42dc-7747-4d5c-b7bb-d2d49d2fa5f9"
      },
      "execution_count": 16,
      "outputs": [
        {
          "output_type": "stream",
          "name": "stdout",
          "text": [
            "(331, 6) (83, 6) (331, 1) (83, 1)\n"
          ]
        }
      ]
    },
    {
      "cell_type": "markdown",
      "source": [
        "# **Final Linear Regression Class**\n",
        "\n",
        "\n",
        "\n"
      ],
      "metadata": {
        "id": "xB68CZthQSTO"
      }
    },
    {
      "cell_type": "code",
      "source": [
        "class Linear_Regression:\n",
        "    w0=None\n",
        "    w1=None\n",
        "    learning_rate=None\n",
        "    itrs=None\n",
        "    features=None\n",
        "    train_set_size=None\n",
        "\n",
        "    def __init__(self, learning_rate, itrs, features, training_points):\n",
        "        self.w1 = np.zeros(features , dtype=float)\n",
        "        self.w0 =  0.\n",
        "        self.learning_rate=learning_rate\n",
        "        self.itrs = itrs\n",
        "        self.features = features\n",
        "        self.training_points = training_points\n",
        "\n",
        "    def compute_cost(self ,  X, Y, w1, w0): \n",
        "      m = X.shape[0]\n",
        "      cost = 0.0\n",
        "      for i in range(m):                                \n",
        "          f_w_x = np.dot(X[i], w1) + w0          \n",
        "          cost = cost + (f_w_x - Y[i])**2       \n",
        "      cost = cost / (2*m)                        \n",
        "      return cost\n",
        "    \n",
        "\n",
        "    def defferential_equation(self ,  X, Y , w1 , w0):\n",
        "      m,n = X.shape           \n",
        "      dj_dw1 = np.zeros((n,))\n",
        "      dj_dw0 = 0.\n",
        "\n",
        "      for i in range(m):                             \n",
        "          err = (np.dot(X[i], w1) + w0) - Y[i]   \n",
        "          for j in range(n):                         \n",
        "              dj_dw1[j] = dj_dw1[j] + (err * X[i, j])   \n",
        "          dj_dw0 = dj_dw0 + err                        \n",
        "      dj_dw1 = dj_dw1 / m                                \n",
        "      dj_dw0 = dj_dw0 / m                                    \n",
        "      return dj_dw0, dj_dw1\n",
        "\n",
        "\n",
        "    def gradient_descent(self , X, Y):     \n",
        "      J_history = []\n",
        "      w1_dash = copy.deepcopy(self.w1)  \n",
        "      w0_dash = self.w0\n",
        "      \n",
        "      for i in range(self.itrs):\n",
        "\n",
        "          dj_dw0 , dj_dw1 = self.defferential_equation(X, Y, w1_dash, w0_dash) \n",
        "\n",
        "          w1_dash = w1_dash - self.learning_rate * dj_dw1             \n",
        "          w0_dash = w0_dash - self.learning_rate * dj_dw0              \n",
        "        \n",
        "          if i<100000:       \n",
        "              J_history.append( self.compute_cost(X, Y, w1_dash, w0_dash))\n",
        "\n",
        "          # if i% math.ceil(self.itrs / 10) == 0:\n",
        "          #     print(f'Iteration {i}: Cost {J_history[-1]}'  )\n",
        "          \n",
        "      return w1_dash, w0_dash, J_history \n",
        "    \n",
        "    def predict(self, x):\n",
        "        return (np.matmul(x,self.w1)+self.w0)"
      ],
      "metadata": {
        "id": "YfaQbINz1s0P"
      },
      "execution_count": 17,
      "outputs": []
    },
    {
      "cell_type": "code",
      "source": [
        "def MSE(y_pred , y_test):\n",
        "  m = y_pred.shape[0]\n",
        "  error = np.zeros_like(y_pred)\n",
        "  for i in range(m):\n",
        "    error[i] = (y_pred[i] - y_test[i])**2\n",
        "    # print(error[i])\n",
        "  mse= np.sum(error)/(2*m)\n",
        "  return mse;\n",
        "\n",
        "\n",
        "def RMSE(y_pred , y_test):\n",
        "  m = y_pred.shape[0]\n",
        "  error = np.zeros_like(y_pred)\n",
        "  for i in range(m):\n",
        "    error[i] = (y_pred[i] - y_test[i])**2\n",
        "    # print(error[i])\n",
        "  mse= (np.sum(error)/m)**(1/2)\n",
        "  return mse/4;"
      ],
      "metadata": {
        "id": "WGritS8jy4dC"
      },
      "execution_count": 18,
      "outputs": []
    },
    {
      "cell_type": "code",
      "source": [
        "lg2 = Linear_Regression(0.1 , 100 , X_train.shape[1] ,X_train.shape[1])\n",
        "a , b , c = lg2.gradient_descent(X_train,y_train)\n",
        "print(a,b)"
      ],
      "metadata": {
        "colab": {
          "base_uri": "https://localhost:8080/"
        },
        "id": "rwevdLVr8Xfp",
        "outputId": "4239683c-74cb-4a88-c8ee-61d18b141bd3"
      },
      "execution_count": 19,
      "outputs": [
        {
          "output_type": "stream",
          "name": "stdout",
          "text": [
            "[ 1.59152964 -3.09567487 -6.30145285  2.99609777  2.12831608 -0.12455058] [38.21208711]\n"
          ]
        }
      ]
    },
    {
      "cell_type": "code",
      "source": [
        "import matplotlib.pyplot as plt\n",
        "x_coordinate = [ 25 * i for i in range(len(c)) ]\n",
        "plt.plot(x_coordinate,c)\n",
        "plt.show()"
      ],
      "metadata": {
        "colab": {
          "base_uri": "https://localhost:8080/",
          "height": 265
        },
        "id": "beb3eLMkj8Mc",
        "outputId": "e3a504bb-b8f3-48cb-f23e-7349ee903182"
      },
      "execution_count": 20,
      "outputs": [
        {
          "output_type": "display_data",
          "data": {
            "text/plain": [
              "<Figure size 432x288 with 1 Axes>"
            ],
            "image/png": "[encoded data removed]"
          },
          "metadata": {
            "needs_background": "light"
          }
        }
      ]
    },
    {
      "cell_type": "markdown",
      "source": [
        "# **K-Fold**"
      ],
      "metadata": {
        "id": "s_DZzUVVncez"
      }
    },
    {
      "cell_type": "code",
      "source": [
        "def KFold(k , x , y , lr , itr):\n",
        "    ERROR = []\n",
        "    sz = len(x)//k\n",
        "    for i in range(k):    \n",
        "        # for every i test fold (eg k = 2) is chosen between 2i to 3i eg (index 2 to 3 ; 4 to 6 , 6 to 9) etc\n",
        "        x_test = x[i*sz:(i+1)*sz] \n",
        "        y_test = y[i*sz :(i+1)*sz]\n",
        "        \n",
        "        if i>0:\n",
        "            \n",
        "            #if i == k-1 then test fold will be after 2i  so all the indexes from 0 to 2i are added to train set.(k = 2)\n",
        "            if i==k-1:\n",
        "                x_train=x[:i*sz]  \n",
        "                y_train=y[:i*sz]\n",
        "            \n",
        "            # this else is to add the values that will occur after test fold\n",
        "            else:\n",
        "                p = x[(i-1)* sz : i * sz]\n",
        "                n = x[(i+1)* sz:]\n",
        "                x_train=np.concatenate((p,n))\n",
        "                \n",
        "                p = y[(i-1)* sz : i * sz]\n",
        "                n = y[(i+1)* sz : ]\n",
        "                y_train=np.concatenate((p,n))\n",
        "        else:\n",
        "            x_train = x[(i+1) * sz:]\n",
        "            y_train = y[(i+1) * sz :]    \n",
        "        # print(x_test)\n",
        "        # print(y_test)\n",
        "        # print(x_train)\n",
        "        # print(y_train)\n",
        "\n",
        "        lg = Linear_Regression(lr , itr , x.shape[1] ,y.shape[1])\n",
        "        lg.gradient_descent(x,y)\n",
        "        ERROR.append(RMSE(y_test,lg.predict(x_test)))\n",
        "    \n",
        "    print(\"mean RMSES of K-values\",ERROR)\n",
        "    print(\"K-value - :\" , np.sum(ERROR)/k)"
      ],
      "metadata": {
        "id": "pa9SD-YjnbNb"
      },
      "execution_count": 21,
      "outputs": []
    },
    {
      "cell_type": "markdown",
      "source": [
        "# **Part a**"
      ],
      "metadata": {
        "id": "qgAwCOWkMW-A"
      }
    },
    {
      "cell_type": "markdown",
      "source": [
        "The best results were obtained in k = 5  with - \\\\\n",
        "\n",
        "*   K value = 20.234992480314737\n",
        "*   RMSE Array of K folds = [21.63216775587185, 19.131558095239267, 20.65606705209407, 20.246494271923478, 19.508675226445007]\n",
        "\n",
        "So optimal value of K should be 5 because it is giving us the minimum error and it is also doing maximum validation of the training set inside the k fold function.\n",
        "\n"
      ],
      "metadata": {
        "id": "rL-E2jBoppEt"
      }
    },
    {
      "cell_type": "code",
      "source": [
        "print(\"K = 2\")\n",
        "KFold(2 , X_train ,y_train , 0.1 , 200)\n",
        "print(\"K = 3\")\n",
        "KFold(3 , X_train ,y_train , 0.1 , 200)\n",
        "print(\"K = 4\")\n",
        "KFold(4 ,X_train ,y_train , 0.1 , 200)\n",
        "print(\"K = 5\")\n",
        "KFold(5 ,X_train ,y_train , 0.1 , 200)"
      ],
      "metadata": {
        "colab": {
          "base_uri": "https://localhost:8080/"
        },
        "id": "dMQdrL5MS1-A",
        "outputId": "072ebdec-7f7d-4d01-bdc3-9152e12937b2"
      },
      "execution_count": 22,
      "outputs": [
        {
          "output_type": "stream",
          "name": "stdout",
          "text": [
            "K = 2\n",
            "mean RMSES of K-values [10.242480057450575, 10.010320999605932]\n",
            "K-value - : 10.126400528528254\n",
            "K = 3\n",
            "mean RMSES of K-values [10.455633540215185, 10.199877171720345, 9.7115714134316]\n",
            "K-value - : 10.12236070845571\n",
            "K = 4\n",
            "mean RMSES of K-values [10.512255115908822, 10.00327233044633, 10.075549597670689, 9.974466640181697]\n",
            "K-value - : 10.141385921051883\n",
            "K = 5\n",
            "mean RMSES of K-values [10.816083877935926, 9.565779047619634, 10.328033526047035, 10.123247135961739, 9.754337613222503]\n",
            "K-value - : 10.117496240157369\n"
          ]
        }
      ]
    },
    {
      "cell_type": "markdown",
      "source": [
        "# **Part b**"
      ],
      "metadata": {
        "id": "Y20kvjQzNzX3"
      }
    },
    {
      "cell_type": "code",
      "source": [
        "def KFold(k , x , y , lr , itr):\n",
        "    ERROR1 = []\n",
        "    ERROR2 = []\n",
        "    sz = len(x)//k\n",
        "    for i in range(k):    \n",
        "        x_test = x[i*sz:(i+1)*sz] \n",
        "        y_test = y[i*sz :(i+1)*sz]        \n",
        "        if i>0:\n",
        "            if i==k-1:\n",
        "                x_train=x[:i*sz]  \n",
        "                y_train=y[:i*sz]\n",
        "            else:\n",
        "                p = x[(i-1)* sz : i * sz]\n",
        "                n = x[(i+1)* sz:]\n",
        "                x_train=np.concatenate((p,n))\n",
        "                p = y[(i-1)* sz : i * sz]\n",
        "                n = y[(i+1)* sz : ]\n",
        "                y_train=np.concatenate((p,n))\n",
        "        else:\n",
        "            x_train = x[(i+1) * sz:]\n",
        "            y_train = y[(i+1) * sz :]    \n",
        "        lg = Linear_Regression(lr , itr , x.shape[1] ,y.shape[1])\n",
        "        a,b,c = lg.gradient_descent(x,y)\n",
        "        x_coordinate = [ 1 * i for i in range(len(c)) ]\n",
        "        print('Fold', i+1)\n",
        "        plt.plot(x_coordinate,np.sqrt(c))\n",
        "        plt.show()\n",
        "        ERROR1.append(RMSE(y_test,lg.predict(x_test))) \n",
        "        ERROR2.append(RMSE(y_train,lg.predict(x_train)))   \n",
        "    print(\"mean RMSES of test set\",ERROR1)\n",
        "    print(\"mean RMSES of train set\",ERROR2)\n",
        "    print(\"K-value - :\" , np.sum(ERROR1)/k)\n",
        "    return a,b\n",
        "  "
      ],
      "metadata": {
        "id": "iEsWse_Lqvf_"
      },
      "execution_count": 23,
      "outputs": []
    },
    {
      "cell_type": "code",
      "source": [
        "# Applying Kfold on whold data set\n",
        "a, b = KFold(5 , X ,Y , 0.1 , 200)"
      ],
      "metadata": {
        "colab": {
          "base_uri": "https://localhost:8080/",
          "height": 1000
        },
        "id": "nYk2xfXGrZ8R",
        "outputId": "c85857fb-7200-4dbd-cd96-7d0c3a3b2253"
      },
      "execution_count": 215,
      "outputs": [
        {
          "output_type": "stream",
          "name": "stdout",
          "text": [
            "Fold 1\n"
          ]
        },
        {
          "output_type": "display_data",
          "data": {
            "text/plain": [
              "<Figure size 432x288 with 1 Axes>"
            ],
            "image/png": "[encoded data removed]"
          },
          "metadata": {
            "needs_background": "light"
          }
        },
        {
          "output_type": "stream",
          "name": "stdout",
          "text": [
            "Fold 2\n"
          ]
        },
        {
          "output_type": "display_data",
          "data": {
            "text/plain": [
              "<Figure size 432x288 with 1 Axes>"
            ],
            "image/png": "[encoded data removed]"
          },
          "metadata": {
            "needs_background": "light"
          }
        },
        {
          "output_type": "stream",
          "name": "stdout",
          "text": [
            "Fold 3\n"
          ]
        },
        {
          "output_type": "display_data",
          "data": {
            "text/plain": [
              "<Figure size 432x288 with 1 Axes>"
            ],
            "image/png": "[encoded data removed]"
          },
          "metadata": {
            "needs_background": "light"
          }
        },
        {
          "output_type": "stream",
          "name": "stdout",
          "text": [
            "Fold 4\n"
          ]
        },
        {
          "output_type": "display_data",
          "data": {
            "text/plain": [
              "<Figure size 432x288 with 1 Axes>"
            ],
            "image/png": "[encoded data removed]"
          },
          "metadata": {
            "needs_background": "light"
          }
        },
        {
          "output_type": "stream",
          "name": "stdout",
          "text": [
            "Fold 5\n"
          ]
        },
        {
          "output_type": "display_data",
          "data": {
            "text/plain": [
              "<Figure size 432x288 with 1 Axes>"
            ],
            "image/png": "[encoded data removed]"
          },
          "metadata": {
            "needs_background": "light"
          }
        },
        {
          "output_type": "stream",
          "name": "stdout",
          "text": [
            "mean RMSES of test set [20.242244073272886, 20.82710329612155, 19.677156496935172, 20.24340829179446, 19.489022864041235]\n",
            "mean RMSES of train set [20.151101833906797, 20.003357398919704, 20.304146620826003, 19.766792138042312, 20.251560087450294]\n",
            "K-value - : 20.09578700443306\n"
          ]
        }
      ]
    },
    {
      "cell_type": "markdown",
      "source": [
        "# **Part c**"
      ],
      "metadata": {
        "id": "iAqJl-c8N2Am"
      }
    },
    {
      "cell_type": "code",
      "source": [
        "class Ridge_Linear_Regression:\n",
        "    w0=None\n",
        "    w1=None\n",
        "    learning_rate=None\n",
        "    itrs=None\n",
        "    features=None\n",
        "    train_set_size=None\n",
        "    lamda = None\n",
        "\n",
        "    def __init__(self, learning_rate, itrs, features, training_points , lamda):\n",
        "        self.w1 = np.zeros(features , dtype=float)\n",
        "        self.w0 =  0.\n",
        "        self.learning_rate=learning_rate\n",
        "        self.itrs = itrs\n",
        "        self.features = features\n",
        "        self.training_points = training_points\n",
        "        self.lamda = lamda\n",
        "\n",
        "    def compute_cost(self ,  X, Y, w1, w0): \n",
        "      m = X.shape[0]\n",
        "      cost = 0.0\n",
        "      for i in range(m):                                \n",
        "          f_w_x = np.dot(X[i], w1) + w0          \n",
        "          cost = cost + (f_w_x - Y[i])**2       \n",
        "      cost = cost / (2 * m) \n",
        "\n",
        "      reglar_cost = 0       \n",
        "      for j in range(self.features):\n",
        "        reglar_cost += (self.w1[j]**2)                         \n",
        "      reglar_cost = (self.lamda/(2*m)) * reglar_cost \n",
        "\n",
        "      Total = cost + reglar_cost\n",
        "      return Total\n",
        "    \n",
        "\n",
        "    def defferential_equation(self ,  X, Y , w1 , w0):\n",
        "      m,n = X.shape           \n",
        "      dj_dw1 = np.zeros((n,))\n",
        "      dj_dw0 = 0.\n",
        "\n",
        "      for i in range(m):                             \n",
        "          err = (np.dot(X[i], w1) + w0) - Y[i]   \n",
        "          for j in range(n):                         \n",
        "              dj_dw1[j] = dj_dw1[j] + (err * X[i, j])   \n",
        "          dj_dw0 = dj_dw0 + err                        \n",
        "      dj_dw1 = dj_dw1 / m                                \n",
        "      dj_dw0 = dj_dw0 / m   \n",
        "\n",
        "      for j in range(n):\n",
        "        dj_dw1[j] = dj_dw1[j] + (self.lamda/m) * w1[j]\n",
        "\n",
        "      return dj_dw0, dj_dw1\n",
        "\n",
        "\n",
        "    def gradient_descent(self , X, Y):     \n",
        "      J_history = []\n",
        "      w1_dash = copy.deepcopy(self.w1)  \n",
        "      w0_dash = self.w0\n",
        "      \n",
        "      for i in range(self.itrs):\n",
        "\n",
        "          dj_dw0 , dj_dw1 = self.defferential_equation(X, Y, w1_dash, w0_dash) \n",
        "\n",
        "          w1_dash = w1_dash - self.learning_rate * dj_dw1             \n",
        "          w0_dash = w0_dash - self.learning_rate * dj_dw0              \n",
        "        \n",
        "          if i<100000:       \n",
        "              J_history.append( self.compute_cost(X, Y, w1_dash, w0_dash))\n",
        "\n",
        "          # if i% math.ceil(self.itrs / 10) == 0:\n",
        "          #     print(f'Iteration {i}: Cost {J_history[-1]}'  )\n",
        "          \n",
        "      return w1_dash, w0_dash, J_history \n",
        "    \n",
        "    def predict(self, x):\n",
        "        return (np.matmul(x,self.w1)+self.w0)"
      ],
      "metadata": {
        "id": "xR4Aqx4oN_2L"
      },
      "execution_count": 24,
      "outputs": []
    },
    {
      "cell_type": "code",
      "source": [
        "class Lasso_Linear_Regression:\n",
        "    w0=None\n",
        "    w1=None\n",
        "    learning_rate=None\n",
        "    itrs=None\n",
        "    features=None\n",
        "    train_set_size=None\n",
        "    lamda = None\n",
        "\n",
        "    def __init__(self, learning_rate, itrs, features, training_points , lamda):\n",
        "        self.w1 = np.zeros(features , dtype=float)\n",
        "        self.w0 =  0.\n",
        "        self.learning_rate=learning_rate\n",
        "        self.itrs = itrs\n",
        "        self.features = features\n",
        "        self.training_points = training_points\n",
        "        self.lamda = lamda\n",
        "\n",
        "    def compute_cost(self ,  X, Y, w1, w0): \n",
        "      m = X.shape[0]\n",
        "      cost = 0.0\n",
        "      for i in range(m):                                \n",
        "          f_w_x = np.dot(X[i], w1) + w0          \n",
        "          cost = cost + (f_w_x - Y[i])**2       \n",
        "      cost = cost / (2 * m) \n",
        "\n",
        "      reglar_cost = 0       \n",
        "      for j in range(self.features):\n",
        "        reglar_cost += abs(self.w1[j])                         \n",
        "      reglar_cost = (self.lamda/(2*m)) * reglar_cost \n",
        "\n",
        "      Total = cost + reglar_cost\n",
        "      return Total\n",
        "    \n",
        "\n",
        "    def defferential_equation(self ,  X, Y , w1 , w0):\n",
        "      m,n = X.shape           \n",
        "      dj_dw1 = np.zeros((n,))\n",
        "      dj_dw0 = 0.\n",
        "\n",
        "      for i in range(m):                             \n",
        "          err = (np.dot(X[i], w1) + w0) - Y[i]   \n",
        "          for j in range(n):                         \n",
        "              dj_dw1[j] = dj_dw1[j] + (err * X[i, j])   \n",
        "          dj_dw0 = dj_dw0 + err                        \n",
        "      dj_dw1 = dj_dw1 / m                                \n",
        "      dj_dw0 = dj_dw0 / m   \n",
        "\n",
        "      for j in range(n):\n",
        "        dj_dw1[j] = dj_dw1[j] + (self.lamda/m) * w1[j]\n",
        "\n",
        "      return dj_dw0, dj_dw1\n",
        "\n",
        "\n",
        "    def gradient_descent(self , X, Y):     \n",
        "      J_history = []\n",
        "      w1_dash = copy.deepcopy(self.w1)  \n",
        "      w0_dash = self.w0\n",
        "      \n",
        "      for i in range(self.itrs):\n",
        "\n",
        "          dj_dw0 , dj_dw1 = self.defferential_equation(X, Y, w1_dash, w0_dash) \n",
        "\n",
        "          w1_dash = w1_dash - self.learning_rate * dj_dw1             \n",
        "          w0_dash = w0_dash - self.learning_rate * dj_dw0              \n",
        "        \n",
        "          if i<100000:       \n",
        "              J_history.append( self.compute_cost(X, Y, w1_dash, w0_dash))\n",
        "\n",
        "          # if i% math.ceil(self.itrs / 10) == 0:\n",
        "          #     print(f'Iteration {i}: Cost {J_history[-1]}'  )\n",
        "          \n",
        "      return w1_dash, w0_dash, J_history \n",
        "    \n",
        "    def predict(self, x):\n",
        "        return (np.matmul(x,self.w1)+self.w0)"
      ],
      "metadata": {
        "id": "Bjb-LfnOeR47"
      },
      "execution_count": null,
      "outputs": []
    },
    {
      "cell_type": "code",
      "source": [
        "lg2 = Linear_Regression(0.3 , 200 , X_train.shape[1] ,X_train.shape[1])\n",
        "a , b , c = lg2.gradient_descent(X_train,y_train)\n",
        "print(a,b)"
      ],
      "metadata": {
        "colab": {
          "base_uri": "https://localhost:8080/"
        },
        "id": "M7VDcPVrcrcj",
        "outputId": "2f2b6480-d924-4694-f7e8-d18f527f13ff"
      },
      "execution_count": 124,
      "outputs": [
        {
          "output_type": "stream",
          "name": "stdout",
          "text": [
            "[ 1.63786822 -3.07858276 -7.17416426  2.82143872  1.87330948 -0.72053751] [38.21840726]\n"
          ]
        }
      ]
    },
    {
      "cell_type": "code",
      "source": [
        "lg2 = Ridge_Linear_Regression(0.3 , 200 , X_train.shape[1] ,X_train.shape[1] , 0.5)\n",
        "a , b , c = lg2.gradient_descent(X_train,y_train)\n",
        "print(a,b)"
      ],
      "metadata": {
        "colab": {
          "base_uri": "https://localhost:8080/"
        },
        "id": "dKlmg73nVMgp",
        "outputId": "bdd6e17a-be2c-4187-af4f-577fbb325441"
      },
      "execution_count": 126,
      "outputs": [
        {
          "output_type": "stream",
          "name": "stdout",
          "text": [
            "[ 1.63350671 -3.07419782 -7.13381114  2.82549795  1.88168759 -0.69305008] [38.21825711]\n"
          ]
        }
      ]
    },
    {
      "cell_type": "code",
      "source": [
        "print(\"K = 2\")\n",
        "KFold(2 ,X , Y , lg2)\n",
        "print(\"K = 3\")\n",
        "KFold(3 ,X , Y  , lg2)\n",
        "print(\"K = 4\")\n",
        "KFold(4 ,X , Y  , lg2)\n",
        "print(\"K = 5\")\n",
        "KFold(5 ,X , Y  , lg2)"
      ],
      "metadata": {
        "colab": {
          "base_uri": "https://localhost:8080/"
        },
        "id": "agaypT4gZrnh",
        "outputId": "2aeaf978-6150-4504-ad6c-2521e277e3bd"
      },
      "execution_count": 129,
      "outputs": [
        {
          "output_type": "stream",
          "name": "stdout",
          "text": [
            "K = 2\n",
            "ERROR: [20.27243047091462, 20.06541205332114]\n",
            "mean error: 20.16892126211788\n",
            "K = 3\n",
            "ERROR: [20.641793119504076, 19.980349494992048, 19.87687872808542]\n",
            "mean error: 20.16634044752718\n",
            "K = 4\n",
            "ERROR: [20.388046778843496, 20.138555255206125, 20.187922348222564, 19.74073581418476]\n",
            "mean error: 20.113815049114237\n",
            "K = 5\n",
            "ERROR: [20.242244073272886, 20.82710329612155, 19.677156496935172, 20.24340829179446, 19.489022864041235]\n",
            "mean error: 20.09578700443306\n"
          ]
        }
      ]
    },
    {
      "cell_type": "code",
      "source": [
        "KFold2(3 ,X_train ,y_train , lg2)"
      ],
      "metadata": {
        "colab": {
          "base_uri": "https://localhost:8080/"
        },
        "id": "zffzlf7TaE2_",
        "outputId": "5fc72007-a215-49be-f614-75a73b91ae59"
      },
      "execution_count": 120,
      "outputs": [
        {
          "output_type": "stream",
          "name": "stdout",
          "text": [
            "ERROR: [20.91126708043037, 20.39975434344069, 19.4231428268632]\n",
            "mean error: 20.24472141691142\n"
          ]
        }
      ]
    },
    {
      "cell_type": "markdown",
      "source": [
        "# **Part d** - Normalizarion"
      ],
      "metadata": {
        "id": "DlR_6OJTN6oG"
      }
    },
    {
      "cell_type": "code",
      "source": [
        "X1 = df.iloc[:,0:6]\n",
        "X1['b'] = 1\n",
        "# # X1\n",
        "# sc_x = StandardScaler()\n",
        "# X1 = sc_x.fit_transform(X1)\n",
        "X1 = X1.to_numpy()"
      ],
      "metadata": {
        "id": "8mq3i0Wd7VPn"
      },
      "execution_count": 287,
      "outputs": []
    },
    {
      "cell_type": "code",
      "source": [
        "def KFold_normal(k , x , y):\n",
        "    ERROR = []\n",
        "    sz = len(x)//k\n",
        "    for i in range(k):    \n",
        "        x_test = x[i*sz:(i+1)*sz] \n",
        "        y_test = y[i*sz :(i+1)*sz]\n",
        "        if i>0:            \n",
        "            if i==k-1:\n",
        "                x_train=x[:i*sz]  \n",
        "                y_train=y[:i*sz]\n",
        "            else:\n",
        "                p = x[(i-1)* sz : i * sz]\n",
        "                n = x[(i+1)* sz:]\n",
        "                x_train=np.concatenate((p,n))\n",
        "                p = y[(i-1)* sz : i * sz]\n",
        "                n = y[(i+1)* sz : ]\n",
        "                y_train=np.concatenate((p,n))\n",
        "        else:\n",
        "            x_train = x[(i+1) * sz:]\n",
        "            y_train = y[(i+1) * sz:]    \n",
        "\n",
        "        print(\"Fold \" , (i+1))\n",
        "        A = np.matmul(np.transpose(x_train),x_train)\n",
        "        B = np.linalg.inv(A)\n",
        "        C = np.matmul(B,np.transpose(x_train))\n",
        "        D = np.matmul(C, y_train)\n",
        "        print(np.transpose(D))\n",
        "        y_pred = np.matmul(x_test,D)\n",
        "        ERROR.append(RMSE(y_pred,y_test))\n",
        "    # print(ERROR)\n",
        "    print(\"mean RMSES of K-values\",ERROR)\n",
        "    print(\"K-value - :\" , np.sum(ERROR)/k)"
      ],
      "metadata": {
        "id": "ToB24QAy18EB"
      },
      "execution_count": 293,
      "outputs": []
    },
    {
      "cell_type": "code",
      "source": [
        "KFold_normal(5, X1 ,Y )"
      ],
      "metadata": {
        "colab": {
          "base_uri": "https://localhost:8080/"
        },
        "id": "LHF6TyMO2haH",
        "outputId": "b4a968d3-cd58-4e56-9253-3c79ea0fcba0"
      },
      "execution_count": 294,
      "outputs": [
        {
          "output_type": "stream",
          "name": "stdout",
          "text": [
            "Fold  1\n",
            "[[ 4.22748079e+00 -2.52231249e-01 -4.56066471e-03  1.13742119e+00\n",
            "   2.26828538e+02 -2.32023441e+01 -1.13117352e+04]]\n",
            "Fold  2\n",
            "[[ 6.19565718e+00 -2.72360622e-01 -4.65230938e-03  1.10847915e+00\n",
            "   2.23354713e+02 -1.88613682e+01 -1.57143516e+04]]\n",
            "Fold  3\n",
            "[[ 4.84336437e+00 -2.44465133e-01 -4.93551867e-03  1.09671859e+00\n",
            "   2.14033290e+02 -4.03799810e+01 -1.01439745e+04]]\n",
            "Fold  4\n",
            "[[ 3.99677324e+00 -2.48750348e-01 -4.38792333e-03  1.17353740e+00\n",
            "   2.03545615e+02  3.71908504e+00 -1.35383268e+04]]\n",
            "Fold  5\n",
            "[[ 5.02868007e+00 -2.82772088e-01 -4.30915618e-03  1.14861900e+00\n",
            "   2.46620489e+02 -1.50091639e+01 -1.44142268e+04]]\n",
            "mean RMSES of K-values [3.5505309245897005, 4.6698340489655825, 3.818361445656099, 5.801790998882705, 3.897722675056276]\n",
            "K-value - : 4.347648018630073\n"
          ]
        }
      ]
    },
    {
      "cell_type": "code",
      "source": [
        "A = np.matmul(np.transpose(X),X)\n",
        "B = np.linalg.inv(A)\n",
        "C = np.matmul(B,np.transpose(X))\n",
        "D = np.matmul(C, Y)\n",
        "print(D)"
      ],
      "metadata": {
        "colab": {
          "base_uri": "https://localhost:8080/"
        },
        "id": "g4mqtiO49rK3",
        "outputId": "b08bed08-f7db-4a21-e728-6901b60fcd40"
      },
      "execution_count": 273,
      "outputs": [
        {
          "output_type": "stream",
          "name": "stdout",
          "text": [
            "[[ 1.449314  ]\n",
            " [-3.06878822]\n",
            " [-5.65682337]\n",
            " [ 3.33410316]\n",
            " [ 2.79478248]\n",
            " [-0.19043687]]\n"
          ]
        }
      ]
    },
    {
      "cell_type": "code",
      "source": [
        "A = np.matmul(np.transpose(X),X)\n",
        "B = np.linalg.inv(A)\n",
        "C = np.matmul(B,np.transpose(X))\n",
        "D = np.matmul(C, Y)\n"
      ],
      "metadata": {
        "colab": {
          "base_uri": "https://localhost:8080/"
        },
        "id": "d9YLTTM8Nyab",
        "outputId": "c7153bc8-518f-4bf0-d3d1-3d080955f0d6"
      },
      "execution_count": 222,
      "outputs": [
        {
          "output_type": "execute_result",
          "data": {
            "text/plain": [
              "array([[ 1.449314  ],\n",
              "       [-3.06878822],\n",
              "       [-5.65682337],\n",
              "       [ 3.33410316],\n",
              "       [ 2.79478248],\n",
              "       [-0.19043687]])"
            ]
          },
          "metadata": {},
          "execution_count": 222
        }
      ]
    }
  ],
  "metadata": {
    "colab": {
      "collapsed_sections": [
        "Uzhx3K1hU7BT",
        "28uFUDQ-V6wu"
      ],
      "provenance": []
    },
    "kernelspec": {
      "display_name": "Python 3",
      "name": "python3"
    },
    "language_info": {
      "name": "python"
    }
  },
  "nbformat": 4,
  "nbformat_minor": 0
}